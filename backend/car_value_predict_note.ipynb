{
 "cells": [
  {
   "cell_type": "code",
   "execution_count": 279,
   "metadata": {},
   "outputs": [],
   "source": [
    "import pandas as pd\n",
    "import mysql.connector as connection"
   ]
  },
  {
   "cell_type": "code",
   "execution_count": 280,
   "outputs": [],
   "source": [
    "try:\n",
    "    db = connection.connect(host=\"127.0.0.1\", database='car', user=\"root\", passwd=\"\", use_pure=True)\n",
    "    query = \"select cs.year, cs.listing_mileage, cs.listing_price_in_cents from car_solds cs inner join car_models mo on cs.car_model_id = mo.id inner join car_makes ma on mo.car_make_id=ma.id where ma.name like '%Kia%';\"\n",
    "    df = pd.read_sql(query, db)\n",
    "    db.close()\n",
    "except Exception as e:\n",
    "    print(str(e))\n",
    "finally:\n",
    "    db.close()"
   ],
   "metadata": {
    "collapsed": false
   }
  },
  {
   "cell_type": "code",
   "execution_count": 281,
   "outputs": [
    {
     "data": {
      "text/plain": "   year  listing_mileage  listing_price_in_cents\n0  2015          53960.0                       0\n1  2015          86967.0                       0\n2  2015              NaN                       0\n3  2021          32261.0                 2297800\n4  2023             15.0                 2389300",
      "text/html": "<div>\n<style scoped>\n    .dataframe tbody tr th:only-of-type {\n        vertical-align: middle;\n    }\n\n    .dataframe tbody tr th {\n        vertical-align: top;\n    }\n\n    .dataframe thead th {\n        text-align: right;\n    }\n</style>\n<table border=\"1\" class=\"dataframe\">\n  <thead>\n    <tr style=\"text-align: right;\">\n      <th></th>\n      <th>year</th>\n      <th>listing_mileage</th>\n      <th>listing_price_in_cents</th>\n    </tr>\n  </thead>\n  <tbody>\n    <tr>\n      <th>0</th>\n      <td>2015</td>\n      <td>53960.0</td>\n      <td>0</td>\n    </tr>\n    <tr>\n      <th>1</th>\n      <td>2015</td>\n      <td>86967.0</td>\n      <td>0</td>\n    </tr>\n    <tr>\n      <th>2</th>\n      <td>2015</td>\n      <td>NaN</td>\n      <td>0</td>\n    </tr>\n    <tr>\n      <th>3</th>\n      <td>2021</td>\n      <td>32261.0</td>\n      <td>2297800</td>\n    </tr>\n    <tr>\n      <th>4</th>\n      <td>2023</td>\n      <td>15.0</td>\n      <td>2389300</td>\n    </tr>\n  </tbody>\n</table>\n</div>"
     },
     "execution_count": 281,
     "metadata": {},
     "output_type": "execute_result"
    }
   ],
   "source": [
    "df.head()"
   ],
   "metadata": {
    "collapsed": false
   }
  },
  {
   "cell_type": "code",
   "execution_count": 282,
   "outputs": [
    {
     "name": "stdout",
     "output_type": "stream",
     "text": [
      "<class 'pandas.core.frame.DataFrame'>\n",
      "RangeIndex: 24541 entries, 0 to 24540\n",
      "Data columns (total 3 columns):\n",
      " #   Column                  Non-Null Count  Dtype  \n",
      "---  ------                  --------------  -----  \n",
      " 0   year                    24541 non-null  object \n",
      " 1   listing_mileage         22039 non-null  float64\n",
      " 2   listing_price_in_cents  24541 non-null  int64  \n",
      "dtypes: float64(1), int64(1), object(1)\n",
      "memory usage: 575.3+ KB\n"
     ]
    }
   ],
   "source": [
    "df.info()"
   ],
   "metadata": {
    "collapsed": false
   }
  },
  {
   "cell_type": "code",
   "execution_count": 283,
   "outputs": [
    {
     "data": {
      "text/plain": "       listing_mileage  listing_price_in_cents\ncount     22039.000000            2.454100e+04\nmean      48481.865783            2.363047e+06\nstd       42631.487759            1.303482e+06\nmin           1.000000            0.000000e+00\n25%       14835.500000            1.649900e+06\n50%       40784.000000            2.312700e+06\n75%       71905.500000            3.039300e+06\nmax      557784.000000            9.999900e+06",
      "text/html": "<div>\n<style scoped>\n    .dataframe tbody tr th:only-of-type {\n        vertical-align: middle;\n    }\n\n    .dataframe tbody tr th {\n        vertical-align: top;\n    }\n\n    .dataframe thead th {\n        text-align: right;\n    }\n</style>\n<table border=\"1\" class=\"dataframe\">\n  <thead>\n    <tr style=\"text-align: right;\">\n      <th></th>\n      <th>listing_mileage</th>\n      <th>listing_price_in_cents</th>\n    </tr>\n  </thead>\n  <tbody>\n    <tr>\n      <th>count</th>\n      <td>22039.000000</td>\n      <td>2.454100e+04</td>\n    </tr>\n    <tr>\n      <th>mean</th>\n      <td>48481.865783</td>\n      <td>2.363047e+06</td>\n    </tr>\n    <tr>\n      <th>std</th>\n      <td>42631.487759</td>\n      <td>1.303482e+06</td>\n    </tr>\n    <tr>\n      <th>min</th>\n      <td>1.000000</td>\n      <td>0.000000e+00</td>\n    </tr>\n    <tr>\n      <th>25%</th>\n      <td>14835.500000</td>\n      <td>1.649900e+06</td>\n    </tr>\n    <tr>\n      <th>50%</th>\n      <td>40784.000000</td>\n      <td>2.312700e+06</td>\n    </tr>\n    <tr>\n      <th>75%</th>\n      <td>71905.500000</td>\n      <td>3.039300e+06</td>\n    </tr>\n    <tr>\n      <th>max</th>\n      <td>557784.000000</td>\n      <td>9.999900e+06</td>\n    </tr>\n  </tbody>\n</table>\n</div>"
     },
     "execution_count": 283,
     "metadata": {},
     "output_type": "execute_result"
    }
   ],
   "source": [
    "df.describe()"
   ],
   "metadata": {
    "collapsed": false
   }
  },
  {
   "cell_type": "code",
   "execution_count": 284,
   "outputs": [
    {
     "data": {
      "text/plain": "2654"
     },
     "execution_count": 284,
     "metadata": {},
     "output_type": "execute_result"
    }
   ],
   "source": [
    "df.duplicated().sum()"
   ],
   "metadata": {
    "collapsed": false
   }
  },
  {
   "cell_type": "code",
   "execution_count": 285,
   "outputs": [
    {
     "data": {
      "text/plain": "year                         0\nlisting_mileage           2502\nlisting_price_in_cents       0\ndtype: int64"
     },
     "execution_count": 285,
     "metadata": {},
     "output_type": "execute_result"
    }
   ],
   "source": [
    "df.isnull().sum()"
   ],
   "metadata": {
    "collapsed": false
   }
  },
  {
   "cell_type": "code",
   "execution_count": 286,
   "outputs": [
    {
     "data": {
      "text/plain": "   year  listing_mileage  listing_price_in_cents\n3  2021          32261.0                 2297800\n4  2023             15.0                 2389300\n5  2020          29583.0                 2359000\n6  2020          83762.0                 1987800\n9  2022             10.0                 2229000",
      "text/html": "<div>\n<style scoped>\n    .dataframe tbody tr th:only-of-type {\n        vertical-align: middle;\n    }\n\n    .dataframe tbody tr th {\n        vertical-align: top;\n    }\n\n    .dataframe thead th {\n        text-align: right;\n    }\n</style>\n<table border=\"1\" class=\"dataframe\">\n  <thead>\n    <tr style=\"text-align: right;\">\n      <th></th>\n      <th>year</th>\n      <th>listing_mileage</th>\n      <th>listing_price_in_cents</th>\n    </tr>\n  </thead>\n  <tbody>\n    <tr>\n      <th>3</th>\n      <td>2021</td>\n      <td>32261.0</td>\n      <td>2297800</td>\n    </tr>\n    <tr>\n      <th>4</th>\n      <td>2023</td>\n      <td>15.0</td>\n      <td>2389300</td>\n    </tr>\n    <tr>\n      <th>5</th>\n      <td>2020</td>\n      <td>29583.0</td>\n      <td>2359000</td>\n    </tr>\n    <tr>\n      <th>6</th>\n      <td>2020</td>\n      <td>83762.0</td>\n      <td>1987800</td>\n    </tr>\n    <tr>\n      <th>9</th>\n      <td>2022</td>\n      <td>10.0</td>\n      <td>2229000</td>\n    </tr>\n  </tbody>\n</table>\n</div>"
     },
     "execution_count": 286,
     "metadata": {},
     "output_type": "execute_result"
    }
   ],
   "source": [
    "df.dropna(subset=['listing_mileage', 'listing_price_in_cents'], inplace=True)\n",
    "df = df[df['listing_price_in_cents'] != 0]\n",
    "final_data = df[['year', 'listing_mileage', 'listing_price_in_cents']]\n",
    "final_data.head()"
   ],
   "metadata": {
    "collapsed": false
   }
  },
  {
   "cell_type": "code",
   "execution_count": 287,
   "outputs": [
    {
     "data": {
      "text/plain": "year                      0\nlisting_mileage           0\nlisting_price_in_cents    0\ndtype: int64"
     },
     "execution_count": 287,
     "metadata": {},
     "output_type": "execute_result"
    }
   ],
   "source": [
    "final_data.isnull().sum()"
   ],
   "metadata": {
    "collapsed": false
   }
  },
  {
   "cell_type": "code",
   "execution_count": 288,
   "outputs": [
    {
     "name": "stdout",
     "output_type": "stream",
     "text": [
      "<class 'pandas.core.frame.DataFrame'>\n",
      "Int64Index: 20157 entries, 3 to 24539\n",
      "Data columns (total 3 columns):\n",
      " #   Column                  Non-Null Count  Dtype  \n",
      "---  ------                  --------------  -----  \n",
      " 0   year                    20157 non-null  object \n",
      " 1   listing_mileage         20157 non-null  float64\n",
      " 2   listing_price_in_cents  20157 non-null  int64  \n",
      "dtypes: float64(1), int64(1), object(1)\n",
      "memory usage: 629.9+ KB\n"
     ]
    }
   ],
   "source": [
    "final_data.info()"
   ],
   "metadata": {
    "collapsed": false
   }
  },
  {
   "cell_type": "code",
   "execution_count": 289,
   "outputs": [
    {
     "data": {
      "text/plain": "(20157, 3)"
     },
     "execution_count": 289,
     "metadata": {},
     "output_type": "execute_result"
    }
   ],
   "source": [
    "final_data.shape"
   ],
   "metadata": {
    "collapsed": false
   }
  },
  {
   "cell_type": "code",
   "execution_count": 290,
   "outputs": [
    {
     "data": {
      "text/plain": "   year  listing_mileage  listing_price_in_cents\n3  2021          32261.0                 2297800\n4  2023             15.0                 2389300\n5  2020          29583.0                 2359000\n6  2020          83762.0                 1987800\n9  2022             10.0                 2229000",
      "text/html": "<div>\n<style scoped>\n    .dataframe tbody tr th:only-of-type {\n        vertical-align: middle;\n    }\n\n    .dataframe tbody tr th {\n        vertical-align: top;\n    }\n\n    .dataframe thead th {\n        text-align: right;\n    }\n</style>\n<table border=\"1\" class=\"dataframe\">\n  <thead>\n    <tr style=\"text-align: right;\">\n      <th></th>\n      <th>year</th>\n      <th>listing_mileage</th>\n      <th>listing_price_in_cents</th>\n    </tr>\n  </thead>\n  <tbody>\n    <tr>\n      <th>3</th>\n      <td>2021</td>\n      <td>32261.0</td>\n      <td>2297800</td>\n    </tr>\n    <tr>\n      <th>4</th>\n      <td>2023</td>\n      <td>15.0</td>\n      <td>2389300</td>\n    </tr>\n    <tr>\n      <th>5</th>\n      <td>2020</td>\n      <td>29583.0</td>\n      <td>2359000</td>\n    </tr>\n    <tr>\n      <th>6</th>\n      <td>2020</td>\n      <td>83762.0</td>\n      <td>1987800</td>\n    </tr>\n    <tr>\n      <th>9</th>\n      <td>2022</td>\n      <td>10.0</td>\n      <td>2229000</td>\n    </tr>\n  </tbody>\n</table>\n</div>"
     },
     "execution_count": 290,
     "metadata": {},
     "output_type": "execute_result"
    }
   ],
   "source": [
    "final_data.head()"
   ],
   "metadata": {
    "collapsed": false
   }
  },
  {
   "cell_type": "code",
   "execution_count": 291,
   "outputs": [
    {
     "name": "stdout",
     "output_type": "stream",
     "text": [
      "<class 'pandas.core.frame.DataFrame'>\n",
      "Int64Index: 20157 entries, 3 to 24539\n",
      "Data columns (total 3 columns):\n",
      " #   Column                  Non-Null Count  Dtype  \n",
      "---  ------                  --------------  -----  \n",
      " 0   year                    20157 non-null  int64  \n",
      " 1   listing_mileage         20157 non-null  float64\n",
      " 2   listing_price_in_cents  20157 non-null  int64  \n",
      "dtypes: float64(1), int64(2)\n",
      "memory usage: 629.9 KB\n"
     ]
    }
   ],
   "source": [
    "final_data['year'] = pd.to_numeric(df['year'], errors='ignore')\n",
    "final_data.info()\n",
    "final_data['age'] = 2022 - final_data['year']\n",
    "final_data.drop(['year'], axis = 1, inplace = True)"
   ],
   "metadata": {
    "collapsed": false
   }
  },
  {
   "cell_type": "code",
   "execution_count": 292,
   "outputs": [
    {
     "data": {
      "text/plain": "   listing_mileage  listing_price_in_cents  age\n3          32261.0                 2297800    1\n4             15.0                 2389300   -1\n5          29583.0                 2359000    2\n6          83762.0                 1987800    2\n9             10.0                 2229000    0",
      "text/html": "<div>\n<style scoped>\n    .dataframe tbody tr th:only-of-type {\n        vertical-align: middle;\n    }\n\n    .dataframe tbody tr th {\n        vertical-align: top;\n    }\n\n    .dataframe thead th {\n        text-align: right;\n    }\n</style>\n<table border=\"1\" class=\"dataframe\">\n  <thead>\n    <tr style=\"text-align: right;\">\n      <th></th>\n      <th>listing_mileage</th>\n      <th>listing_price_in_cents</th>\n      <th>age</th>\n    </tr>\n  </thead>\n  <tbody>\n    <tr>\n      <th>3</th>\n      <td>32261.0</td>\n      <td>2297800</td>\n      <td>1</td>\n    </tr>\n    <tr>\n      <th>4</th>\n      <td>15.0</td>\n      <td>2389300</td>\n      <td>-1</td>\n    </tr>\n    <tr>\n      <th>5</th>\n      <td>29583.0</td>\n      <td>2359000</td>\n      <td>2</td>\n    </tr>\n    <tr>\n      <th>6</th>\n      <td>83762.0</td>\n      <td>1987800</td>\n      <td>2</td>\n    </tr>\n    <tr>\n      <th>9</th>\n      <td>10.0</td>\n      <td>2229000</td>\n      <td>0</td>\n    </tr>\n  </tbody>\n</table>\n</div>"
     },
     "execution_count": 292,
     "metadata": {},
     "output_type": "execute_result"
    }
   ],
   "source": [
    "final_data.head()"
   ],
   "metadata": {
    "collapsed": false
   }
  },
  {
   "cell_type": "code",
   "execution_count": 293,
   "outputs": [
    {
     "data": {
      "text/plain": "(20157, 3)"
     },
     "execution_count": 293,
     "metadata": {},
     "output_type": "execute_result"
    }
   ],
   "source": [
    "df.shape"
   ],
   "metadata": {
    "collapsed": false
   }
  },
  {
   "cell_type": "code",
   "execution_count": 294,
   "outputs": [],
   "source": [
    "import numpy as np\n",
    "\n",
    "\n",
    "def detect_outlier(data):\n",
    "    outlier = []\n",
    "    threshold = 3\n",
    "    mean = np.mean(data)\n",
    "    std = np.std(data)\n",
    "    for i in data:\n",
    "        z_score = (i - mean)/std\n",
    "        if np.abs(z_score)>threshold:\n",
    "            outlier.append(i)\n",
    "    return outlier"
   ],
   "metadata": {
    "collapsed": false
   }
  },
  {
   "cell_type": "code",
   "execution_count": 295,
   "outputs": [
    {
     "data": {
      "text/plain": "[6000000,\n 7259300,\n 6180000,\n 7259300,\n 5899800,\n 5899800,\n 5999800,\n 6050000,\n 6390000,\n 6899500,\n 6799500,\n 5998900,\n 6050000,\n 6390000,\n 6899500,\n 6799500,\n 5998900,\n 6499800,\n 6200000,\n 6493100,\n 5998700,\n 6159000,\n 6199700,\n 5968800,\n 6045000,\n 6164100,\n 6059000,\n 6918300,\n 6488800,\n 6101000,\n 6656000,\n 5959000,\n 6101000,\n 6499500,\n 6094400,\n 5999500,\n 6196400,\n 6899500,\n 6098800,\n 6199000,\n 5999800,\n 6880000,\n 5843000,\n 5868100,\n 9999900,\n 6929500,\n 7201500,\n 6209500,\n 5966000,\n 6452400,\n 6017500,\n 6133500,\n 5988800,\n 6092000,\n 5894000,\n 6099800,\n 5831300,\n 6299800,\n 6799900,\n 6299400,\n 5959000,\n 6199000,\n 5903000,\n 7499900,\n 6199800,\n 6078000,\n 6078000,\n 6079000,\n 6458500,\n 6090000,\n 6598800,\n 6577400,\n 6186500,\n 5999900,\n 6224000,\n 5864000,\n 6798000,\n 6004000,\n 6308500,\n 6375100,\n 5862900,\n 6000500,\n 6100000,\n 6271000,\n 6097500,\n 6102500,\n 6253200,\n 6115500,\n 6199800,\n 6498400,\n 5950000,\n 6225000,\n 5969000,\n 5936500,\n 6007000,\n 5899500,\n 6078000,\n 5981500,\n 9999900,\n 6035000,\n 6101500,\n 5884500,\n 6008500,\n 6173500,\n 6098000,\n 6098000,\n 6480000,\n 6465800,\n 6198700,\n 6410000,\n 6998800,\n 5853500,\n 5899500,\n 6102300,\n 5859400,\n 5894500,\n 6099000,\n 5995900,\n 5897300,\n 6412600,\n 5865900,\n 6680000,\n 5990000,\n 5999900,\n 5999700,\n 6601700,\n 5987700,\n 5999500,\n 6600000,\n 5880000,\n 6298800,\n 5888700,\n 6069700,\n 6255700,\n 6098900,\n 6388800,\n 5999500,\n 5898800,\n 5902500,\n 5963000,\n 6590000,\n 5999900,\n 6288800,\n 6099500,\n 6125500,\n 6036000,\n 6499100,\n 5897100,\n 5994000,\n 5918000,\n 5889500,\n 6398800,\n 5929900,\n 6788800,\n 6399900,\n 5874900,\n 6299100,\n 5990000,\n 5999800,\n 6298800,\n 5899900,\n 5899500,\n 5997500,\n 5997500,\n 5898900,\n 6043500,\n 6479900,\n 6707900]"
     },
     "execution_count": 295,
     "metadata": {},
     "output_type": "execute_result"
    }
   ],
   "source": [
    "outlier_prices = detect_outlier(final_data['listing_price_in_cents'].to_list())\n",
    "outlier_prices"
   ],
   "metadata": {
    "collapsed": false
   }
  },
  {
   "cell_type": "code",
   "execution_count": 296,
   "outputs": [
    {
     "data": {
      "text/plain": "[209384.0,\n 209384.0,\n 241436.0,\n 190321.0,\n 220900.0,\n 187000.0,\n 232400.0,\n 177980.0,\n 194483.0,\n 192322.0,\n 192000.0,\n 178500.0,\n 185515.0,\n 172763.0,\n 212145.0,\n 193855.0,\n 177902.0,\n 176561.0,\n 175362.0,\n 176172.0,\n 195000.0,\n 199142.0,\n 180294.0,\n 189085.0,\n 182545.0,\n 203959.0,\n 186049.0,\n 215885.0,\n 269000.0,\n 190825.0,\n 200115.0,\n 212177.0,\n 199240.0,\n 208552.0,\n 176257.0,\n 224881.0,\n 184335.0,\n 180221.0,\n 239527.0,\n 179702.0,\n 174675.0,\n 179776.0,\n 177773.0,\n 208000.0,\n 223399.0,\n 196403.0,\n 202467.0,\n 184101.0,\n 241295.0,\n 190000.0,\n 190413.0,\n 184000.0,\n 182072.0,\n 226275.0,\n 186109.0,\n 232800.0,\n 244975.0,\n 191545.0,\n 177010.0,\n 177076.0,\n 181153.0,\n 179900.0,\n 204567.0,\n 178994.0,\n 185400.0,\n 193504.0,\n 177436.0,\n 219204.0,\n 230224.0,\n 184857.0,\n 178391.0,\n 177324.0,\n 196000.0,\n 196762.0,\n 228035.0,\n 185000.0,\n 251073.0,\n 197032.0,\n 172988.0,\n 199142.0,\n 185999.0,\n 182194.0,\n 173716.0,\n 175393.0,\n 182004.0,\n 182004.0,\n 189000.0,\n 180000.0,\n 181382.0,\n 180403.0,\n 216397.0,\n 180200.0,\n 264413.0,\n 206000.0,\n 182347.0,\n 220891.0,\n 218000.0,\n 176995.0,\n 205322.0,\n 181010.0,\n 195367.0,\n 202364.0,\n 184721.0,\n 202434.0,\n 234008.0,\n 190000.0,\n 183580.0,\n 185833.0,\n 183810.0,\n 174501.0,\n 230776.0,\n 172639.0,\n 175387.0,\n 181010.0,\n 175470.0,\n 182241.0,\n 188000.0,\n 214767.0,\n 192814.0,\n 183720.0,\n 215005.0,\n 172993.0,\n 182448.0,\n 192426.0,\n 227778.0,\n 181000.0,\n 210520.0,\n 199142.0,\n 193697.0,\n 202656.0,\n 223811.0,\n 230919.0,\n 174814.0,\n 174814.0,\n 176000.0,\n 176000.0,\n 178365.0,\n 217000.0,\n 207257.0,\n 218703.0,\n 178805.0,\n 557784.0,\n 350000.0,\n 199142.0,\n 194046.0,\n 208000.0,\n 187146.0,\n 219115.0,\n 212933.0,\n 237653.0,\n 186200.0,\n 178145.0,\n 182407.0,\n 174250.0,\n 241077.0,\n 238711.0,\n 223944.0,\n 186217.0,\n 224214.0,\n 217000.0,\n 190852.0,\n 211988.0,\n 214707.0,\n 246911.0,\n 229123.0,\n 190000.0,\n 173000.0,\n 204000.0,\n 177360.0,\n 176580.0,\n 184672.0,\n 277918.0,\n 172896.0,\n 175988.0,\n 197401.0,\n 236521.0,\n 185387.0,\n 173801.0,\n 205287.0,\n 188215.0,\n 216882.0,\n 194896.0,\n 199565.0,\n 183000.0,\n 182020.0,\n 183650.0]"
     },
     "execution_count": 296,
     "metadata": {},
     "output_type": "execute_result"
    }
   ],
   "source": [
    "outlier_mileages = detect_outlier(final_data['listing_mileage'].to_list())\n",
    "outlier_mileages"
   ],
   "metadata": {
    "collapsed": false
   }
  },
  {
   "cell_type": "code",
   "execution_count": 297,
   "outputs": [],
   "source": [
    "if len(outlier_prices) > 0:\n",
    "    final_data.drop(final_data[final_data['listing_price_in_cents'] >= outlier_prices[0]].index, inplace = True)\n",
    "if len(outlier_mileages) > 0:\n",
    "    final_data.drop(final_data[final_data['listing_mileage'] >= outlier_mileages[0]].index, inplace = True)"
   ],
   "metadata": {
    "collapsed": false
   }
  },
  {
   "cell_type": "code",
   "execution_count": 298,
   "outputs": [
    {
     "data": {
      "text/plain": "(19997, 3)"
     },
     "execution_count": 298,
     "metadata": {},
     "output_type": "execute_result"
    }
   ],
   "source": [
    "final_data.shape"
   ],
   "metadata": {
    "collapsed": false
   }
  },
  {
   "cell_type": "code",
   "execution_count": 299,
   "outputs": [
    {
     "data": {
      "text/plain": "0.46223707150354476"
     },
     "execution_count": 299,
     "metadata": {},
     "output_type": "execute_result"
    }
   ],
   "source": [
    "from sklearn.metrics import r2_score\n",
    "from sklearn.ensemble import RandomForestRegressor\n",
    "from sklearn.model_selection import train_test_split\n",
    "\n",
    "x = final_data.drop(['listing_price_in_cents'], axis = 1)\n",
    "y = final_data['listing_price_in_cents']\n",
    "x_train, x_test, y_train, y_test = train_test_split(x, y, test_size = 0.3, random_state = 0)\n",
    "rf = RandomForestRegressor(n_estimators = 100,\n",
    "                              criterion = 'mse',\n",
    "                              random_state = 20,\n",
    "                              n_jobs = -1)\n",
    "# rf = RandomForestRegressor(bootstrap=False, max_depth=15, max_features='sqrt', min_samples_split=2, n_estimators=100)\n",
    "rf.fit(x_train,y_train)\n",
    "rf_train_pred = rf.predict(x_train)\n",
    "rf_test_pred = rf.predict(x_test)\n",
    "\n",
    "\n",
    "r2_score(y_test, rf_test_pred)"
   ],
   "metadata": {
    "collapsed": false
   }
  },
  {
   "cell_type": "code",
   "execution_count": 300,
   "outputs": [
    {
     "data": {
      "text/plain": "43492.97"
     },
     "execution_count": 300,
     "metadata": {},
     "output_type": "execute_result"
    }
   ],
   "source": [
    "#mileage, age\n",
    "rf.predict([[80, 0]])[0]/100"
   ],
   "metadata": {
    "collapsed": false
   }
  },
  {
   "cell_type": "code",
   "execution_count": 301,
   "outputs": [],
   "source": [
    "import pickle\n",
    "# open a file, where you ant to store the data\n",
    "file = open('test.pkl', 'wb')\n",
    "\n",
    "# dump information to that file\n",
    "pickle.dump(rf, file)"
   ],
   "metadata": {
    "collapsed": false
   }
  }
 ],
 "metadata": {
  "kernelspec": {
   "display_name": "Python 3",
   "language": "python",
   "name": "python3"
  },
  "language_info": {
   "codemirror_mode": {
    "name": "ipython",
    "version": 3
   },
   "file_extension": ".py",
   "mimetype": "text/x-python",
   "name": "python",
   "nbconvert_exporter": "python",
   "pygments_lexer": "ipython3",
   "version": "3.7.9"
  }
 },
 "nbformat": 4,
 "nbformat_minor": 4
}
